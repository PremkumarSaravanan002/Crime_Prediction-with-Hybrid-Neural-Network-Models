{
 "cells": [
  {
   "cell_type": "code",
   "execution_count": 2,
   "metadata": {},
   "outputs": [],
   "source": [
    "import pandas as pd\n",
    "import numpy as np\n",
    "import matplotlib.pyplot as plt\n",
    "\n",
    "%matplotlib inline\n",
    "import warnings\n",
    "warnings.filterwarnings(\"ignore\")"
   ]
  },
  {
   "cell_type": "code",
   "execution_count": 3,
   "metadata": {},
   "outputs": [],
   "source": [
    "np.random.seed(0)"
   ]
  },
  {
   "cell_type": "code",
   "execution_count": 4,
   "metadata": {},
   "outputs": [],
   "source": [
    "crime= pd.read_csv(\"State+UT Wise Crime Data of India (IPC) 2001-2019 .csv\")"
   ]
  },
  {
   "cell_type": "code",
   "execution_count": 5,
   "metadata": {},
   "outputs": [
    {
     "data": {
      "text/html": [
       "<div>\n",
       "<style scoped>\n",
       "    .dataframe tbody tr th:only-of-type {\n",
       "        vertical-align: middle;\n",
       "    }\n",
       "\n",
       "    .dataframe tbody tr th {\n",
       "        vertical-align: top;\n",
       "    }\n",
       "\n",
       "    .dataframe thead th {\n",
       "        text-align: right;\n",
       "    }\n",
       "</style>\n",
       "<table border=\"1\" class=\"dataframe\">\n",
       "  <thead>\n",
       "    <tr style=\"text-align: right;\">\n",
       "      <th></th>\n",
       "      <th>Year</th>\n",
       "      <th>Category</th>\n",
       "      <th>State_UT</th>\n",
       "      <th>Crime_Rate</th>\n",
       "    </tr>\n",
       "  </thead>\n",
       "  <tbody>\n",
       "    <tr>\n",
       "      <th>0</th>\n",
       "      <td>2001</td>\n",
       "      <td>Union Territory</td>\n",
       "      <td>A &amp; N Islands</td>\n",
       "      <td>184.831461</td>\n",
       "    </tr>\n",
       "    <tr>\n",
       "      <th>1</th>\n",
       "      <td>2001</td>\n",
       "      <td>State</td>\n",
       "      <td>Andhra Pradesh</td>\n",
       "      <td>171.784545</td>\n",
       "    </tr>\n",
       "    <tr>\n",
       "      <th>2</th>\n",
       "      <td>2001</td>\n",
       "      <td>State</td>\n",
       "      <td>Arunachal Pradesh</td>\n",
       "      <td>214.665445</td>\n",
       "    </tr>\n",
       "    <tr>\n",
       "      <th>3</th>\n",
       "      <td>2001</td>\n",
       "      <td>State</td>\n",
       "      <td>Assam</td>\n",
       "      <td>138.437570</td>\n",
       "    </tr>\n",
       "    <tr>\n",
       "      <th>4</th>\n",
       "      <td>2001</td>\n",
       "      <td>State</td>\n",
       "      <td>Bihar</td>\n",
       "      <td>106.700129</td>\n",
       "    </tr>\n",
       "    <tr>\n",
       "      <th>...</th>\n",
       "      <td>...</td>\n",
       "      <td>...</td>\n",
       "      <td>...</td>\n",
       "      <td>...</td>\n",
       "    </tr>\n",
       "    <tr>\n",
       "      <th>660</th>\n",
       "      <td>2019</td>\n",
       "      <td>State</td>\n",
       "      <td>Tamil Nadu</td>\n",
       "      <td>221.759662</td>\n",
       "    </tr>\n",
       "    <tr>\n",
       "      <th>661</th>\n",
       "      <td>2019</td>\n",
       "      <td>State</td>\n",
       "      <td>Tripura</td>\n",
       "      <td>133.400000</td>\n",
       "    </tr>\n",
       "    <tr>\n",
       "      <th>662</th>\n",
       "      <td>2019</td>\n",
       "      <td>State</td>\n",
       "      <td>Uttar Pradesh</td>\n",
       "      <td>156.273399</td>\n",
       "    </tr>\n",
       "    <tr>\n",
       "      <th>663</th>\n",
       "      <td>2019</td>\n",
       "      <td>State</td>\n",
       "      <td>Uttarakhand</td>\n",
       "      <td>108.059034</td>\n",
       "    </tr>\n",
       "    <tr>\n",
       "      <th>664</th>\n",
       "      <td>2019</td>\n",
       "      <td>State</td>\n",
       "      <td>West Bengal</td>\n",
       "      <td>162.300484</td>\n",
       "    </tr>\n",
       "  </tbody>\n",
       "</table>\n",
       "<p>665 rows × 4 columns</p>\n",
       "</div>"
      ],
      "text/plain": [
       "     Year         Category           State_UT  Crime_Rate\n",
       "0    2001  Union Territory      A & N Islands  184.831461\n",
       "1    2001            State     Andhra Pradesh  171.784545\n",
       "2    2001            State  Arunachal Pradesh  214.665445\n",
       "3    2001            State              Assam  138.437570\n",
       "4    2001            State              Bihar  106.700129\n",
       "..    ...              ...                ...         ...\n",
       "660  2019            State         Tamil Nadu  221.759662\n",
       "661  2019            State            Tripura  133.400000\n",
       "662  2019            State      Uttar Pradesh  156.273399\n",
       "663  2019            State        Uttarakhand  108.059034\n",
       "664  2019            State        West Bengal  162.300484\n",
       "\n",
       "[665 rows x 4 columns]"
      ]
     },
     "execution_count": 5,
     "metadata": {},
     "output_type": "execute_result"
    }
   ],
   "source": [
    "crime = crime[[\"Year\",\"Category\",\"State/UT\",\"Crime Rate\"]]\n",
    "# crime = crime.rename({\"Crime Rate\": \"Crime_Rate\"}, axis=1)\n",
    "# crime = crime.rename({\"State/UT\": \"State_UT\"}, axis=1)\n",
    "crime"
   ]
  },
  {
   "cell_type": "code",
   "execution_count": 6,
   "metadata": {},
   "outputs": [],
   "source": [
    "from sklearn.preprocessing import StandardScaler, OneHotEncoder\n",
    "from sklearn.compose import ColumnTransformer\n",
    "from sklearn.model_selection import train_test_split\n",
    "from keras.models import Sequential\n",
    "from keras.layers import GRU, Dense, Dropout\n",
    "from keras.optimizers import Adam\n",
    "from keras.callbacks import EarlyStopping"
   ]
  },
  {
   "cell_type": "code",
   "execution_count": 7,
   "metadata": {},
   "outputs": [
    {
     "name": "stdout",
     "output_type": "stream",
     "text": [
      "Epoch 1/100\n",
      "\u001b[1m8/8\u001b[0m \u001b[32m━━━━━━━━━━━━━━━━━━━━\u001b[0m\u001b[37m\u001b[0m \u001b[1m3s\u001b[0m 68ms/step - loss: 203.3314 - mae: 203.3314 - val_loss: 188.2247 - val_mae: 188.2247\n",
      "Epoch 2/100\n",
      "\u001b[1m8/8\u001b[0m \u001b[32m━━━━━━━━━━━━━━━━━━━━\u001b[0m\u001b[37m\u001b[0m \u001b[1m0s\u001b[0m 15ms/step - loss: 187.5880 - mae: 187.5880 - val_loss: 178.7906 - val_mae: 178.7906\n",
      "Epoch 3/100\n",
      "\u001b[1m8/8\u001b[0m \u001b[32m━━━━━━━━━━━━━━━━━━━━\u001b[0m\u001b[37m\u001b[0m \u001b[1m0s\u001b[0m 18ms/step - loss: 182.9876 - mae: 182.9876 - val_loss: 169.7655 - val_mae: 169.7655\n",
      "Epoch 4/100\n",
      "\u001b[1m8/8\u001b[0m \u001b[32m━━━━━━━━━━━━━━━━━━━━\u001b[0m\u001b[37m\u001b[0m \u001b[1m0s\u001b[0m 14ms/step - loss: 173.6043 - mae: 173.6043 - val_loss: 158.8935 - val_mae: 158.8935\n",
      "Epoch 5/100\n",
      "\u001b[1m8/8\u001b[0m \u001b[32m━━━━━━━━━━━━━━━━━━━━\u001b[0m\u001b[37m\u001b[0m \u001b[1m0s\u001b[0m 14ms/step - loss: 155.8340 - mae: 155.8340 - val_loss: 138.4775 - val_mae: 138.4775\n",
      "Epoch 6/100\n",
      "\u001b[1m8/8\u001b[0m \u001b[32m━━━━━━━━━━━━━━━━━━━━\u001b[0m\u001b[37m\u001b[0m \u001b[1m0s\u001b[0m 14ms/step - loss: 122.9974 - mae: 122.9974 - val_loss: 60.7119 - val_mae: 60.7119\n",
      "Epoch 7/100\n",
      "\u001b[1m8/8\u001b[0m \u001b[32m━━━━━━━━━━━━━━━━━━━━\u001b[0m\u001b[37m\u001b[0m \u001b[1m0s\u001b[0m 14ms/step - loss: 93.6589 - mae: 93.6589 - val_loss: 65.3115 - val_mae: 65.3115\n",
      "Epoch 8/100\n",
      "\u001b[1m8/8\u001b[0m \u001b[32m━━━━━━━━━━━━━━━━━━━━\u001b[0m\u001b[37m\u001b[0m \u001b[1m0s\u001b[0m 14ms/step - loss: 79.5222 - mae: 79.5222 - val_loss: 61.2032 - val_mae: 61.2032\n",
      "Epoch 9/100\n",
      "\u001b[1m8/8\u001b[0m \u001b[32m━━━━━━━━━━━━━━━━━━━━\u001b[0m\u001b[37m\u001b[0m \u001b[1m0s\u001b[0m 17ms/step - loss: 86.5494 - mae: 86.5494 - val_loss: 61.0241 - val_mae: 61.0241\n",
      "Epoch 10/100\n",
      "\u001b[1m8/8\u001b[0m \u001b[32m━━━━━━━━━━━━━━━━━━━━\u001b[0m\u001b[37m\u001b[0m \u001b[1m0s\u001b[0m 15ms/step - loss: 78.9615 - mae: 78.9615 - val_loss: 60.7146 - val_mae: 60.7146\n",
      "Epoch 11/100\n",
      "\u001b[1m8/8\u001b[0m \u001b[32m━━━━━━━━━━━━━━━━━━━━\u001b[0m\u001b[37m\u001b[0m \u001b[1m0s\u001b[0m 14ms/step - loss: 75.3873 - mae: 75.3873 - val_loss: 61.3796 - val_mae: 61.3796\n",
      "Epoch 12/100\n",
      "\u001b[1m8/8\u001b[0m \u001b[32m━━━━━━━━━━━━━━━━━━━━\u001b[0m\u001b[37m\u001b[0m \u001b[1m0s\u001b[0m 14ms/step - loss: 79.1668 - mae: 79.1668 - val_loss: 60.3770 - val_mae: 60.3770\n",
      "Epoch 13/100\n",
      "\u001b[1m8/8\u001b[0m \u001b[32m━━━━━━━━━━━━━━━━━━━━\u001b[0m\u001b[37m\u001b[0m \u001b[1m0s\u001b[0m 14ms/step - loss: 76.3446 - mae: 76.3446 - val_loss: 63.0563 - val_mae: 63.0563\n",
      "Epoch 14/100\n",
      "\u001b[1m8/8\u001b[0m \u001b[32m━━━━━━━━━━━━━━━━━━━━\u001b[0m\u001b[37m\u001b[0m \u001b[1m0s\u001b[0m 14ms/step - loss: 77.6648 - mae: 77.6648 - val_loss: 60.2224 - val_mae: 60.2224\n",
      "Epoch 15/100\n",
      "\u001b[1m8/8\u001b[0m \u001b[32m━━━━━━━━━━━━━━━━━━━━\u001b[0m\u001b[37m\u001b[0m \u001b[1m0s\u001b[0m 14ms/step - loss: 74.0077 - mae: 74.0077 - val_loss: 60.8625 - val_mae: 60.8625\n",
      "Epoch 16/100\n",
      "\u001b[1m8/8\u001b[0m \u001b[32m━━━━━━━━━━━━━━━━━━━━\u001b[0m\u001b[37m\u001b[0m \u001b[1m0s\u001b[0m 14ms/step - loss: 83.7949 - mae: 83.7949 - val_loss: 60.3204 - val_mae: 60.3204\n",
      "Epoch 17/100\n",
      "\u001b[1m8/8\u001b[0m \u001b[32m━━━━━━━━━━━━━━━━━━━━\u001b[0m\u001b[37m\u001b[0m \u001b[1m0s\u001b[0m 27ms/step - loss: 76.3543 - mae: 76.3543 - val_loss: 60.9981 - val_mae: 60.9981\n",
      "Epoch 18/100\n",
      "\u001b[1m8/8\u001b[0m \u001b[32m━━━━━━━━━━━━━━━━━━━━\u001b[0m\u001b[37m\u001b[0m \u001b[1m0s\u001b[0m 18ms/step - loss: 79.1183 - mae: 79.1183 - val_loss: 60.1449 - val_mae: 60.1449\n",
      "Epoch 19/100\n",
      "\u001b[1m8/8\u001b[0m \u001b[32m━━━━━━━━━━━━━━━━━━━━\u001b[0m\u001b[37m\u001b[0m \u001b[1m0s\u001b[0m 18ms/step - loss: 77.5680 - mae: 77.5680 - val_loss: 60.3739 - val_mae: 60.3739\n",
      "Epoch 20/100\n",
      "\u001b[1m8/8\u001b[0m \u001b[32m━━━━━━━━━━━━━━━━━━━━\u001b[0m\u001b[37m\u001b[0m \u001b[1m0s\u001b[0m 16ms/step - loss: 76.3468 - mae: 76.3468 - val_loss: 60.6122 - val_mae: 60.6122\n",
      "Epoch 21/100\n",
      "\u001b[1m8/8\u001b[0m \u001b[32m━━━━━━━━━━━━━━━━━━━━\u001b[0m\u001b[37m\u001b[0m \u001b[1m0s\u001b[0m 17ms/step - loss: 83.0649 - mae: 83.0649 - val_loss: 61.3544 - val_mae: 61.3544\n",
      "Epoch 22/100\n",
      "\u001b[1m8/8\u001b[0m \u001b[32m━━━━━━━━━━━━━━━━━━━━\u001b[0m\u001b[37m\u001b[0m \u001b[1m0s\u001b[0m 17ms/step - loss: 79.8322 - mae: 79.8322 - val_loss: 60.4482 - val_mae: 60.4482\n",
      "Epoch 23/100\n",
      "\u001b[1m8/8\u001b[0m \u001b[32m━━━━━━━━━━━━━━━━━━━━\u001b[0m\u001b[37m\u001b[0m \u001b[1m0s\u001b[0m 14ms/step - loss: 71.5803 - mae: 71.5803 - val_loss: 60.4234 - val_mae: 60.4234\n",
      "Epoch 24/100\n",
      "\u001b[1m8/8\u001b[0m \u001b[32m━━━━━━━━━━━━━━━━━━━━\u001b[0m\u001b[37m\u001b[0m \u001b[1m0s\u001b[0m 21ms/step - loss: 76.3826 - mae: 76.3826 - val_loss: 60.3464 - val_mae: 60.3464\n",
      "Epoch 25/100\n",
      "\u001b[1m8/8\u001b[0m \u001b[32m━━━━━━━━━━━━━━━━━━━━\u001b[0m\u001b[37m\u001b[0m \u001b[1m0s\u001b[0m 15ms/step - loss: 80.0699 - mae: 80.0699 - val_loss: 61.3022 - val_mae: 61.3022\n",
      "Epoch 26/100\n",
      "\u001b[1m8/8\u001b[0m \u001b[32m━━━━━━━━━━━━━━━━━━━━\u001b[0m\u001b[37m\u001b[0m \u001b[1m0s\u001b[0m 15ms/step - loss: 77.0470 - mae: 77.0470 - val_loss: 59.8766 - val_mae: 59.8766\n",
      "Epoch 27/100\n",
      "\u001b[1m8/8\u001b[0m \u001b[32m━━━━━━━━━━━━━━━━━━━━\u001b[0m\u001b[37m\u001b[0m \u001b[1m0s\u001b[0m 16ms/step - loss: 77.4935 - mae: 77.4935 - val_loss: 60.1399 - val_mae: 60.1399\n",
      "Epoch 28/100\n",
      "\u001b[1m8/8\u001b[0m \u001b[32m━━━━━━━━━━━━━━━━━━━━\u001b[0m\u001b[37m\u001b[0m \u001b[1m0s\u001b[0m 15ms/step - loss: 78.5898 - mae: 78.5898 - val_loss: 61.2798 - val_mae: 61.2798\n",
      "Epoch 29/100\n",
      "\u001b[1m8/8\u001b[0m \u001b[32m━━━━━━━━━━━━━━━━━━━━\u001b[0m\u001b[37m\u001b[0m \u001b[1m0s\u001b[0m 16ms/step - loss: 80.7899 - mae: 80.7899 - val_loss: 59.7851 - val_mae: 59.7851\n",
      "Epoch 30/100\n",
      "\u001b[1m8/8\u001b[0m \u001b[32m━━━━━━━━━━━━━━━━━━━━\u001b[0m\u001b[37m\u001b[0m \u001b[1m0s\u001b[0m 14ms/step - loss: 82.5752 - mae: 82.5752 - val_loss: 60.1079 - val_mae: 60.1079\n",
      "Epoch 31/100\n",
      "\u001b[1m8/8\u001b[0m \u001b[32m━━━━━━━━━━━━━━━━━━━━\u001b[0m\u001b[37m\u001b[0m \u001b[1m0s\u001b[0m 16ms/step - loss: 76.8892 - mae: 76.8892 - val_loss: 59.5121 - val_mae: 59.5121\n",
      "Epoch 32/100\n",
      "\u001b[1m8/8\u001b[0m \u001b[32m━━━━━━━━━━━━━━━━━━━━\u001b[0m\u001b[37m\u001b[0m \u001b[1m0s\u001b[0m 15ms/step - loss: 75.1252 - mae: 75.1252 - val_loss: 59.0646 - val_mae: 59.0646\n",
      "Epoch 33/100\n",
      "\u001b[1m8/8\u001b[0m \u001b[32m━━━━━━━━━━━━━━━━━━━━\u001b[0m\u001b[37m\u001b[0m \u001b[1m0s\u001b[0m 14ms/step - loss: 77.5571 - mae: 77.5571 - val_loss: 59.6158 - val_mae: 59.6158\n",
      "Epoch 34/100\n",
      "\u001b[1m8/8\u001b[0m \u001b[32m━━━━━━━━━━━━━━━━━━━━\u001b[0m\u001b[37m\u001b[0m \u001b[1m0s\u001b[0m 24ms/step - loss: 72.0279 - mae: 72.0279 - val_loss: 58.9961 - val_mae: 58.9961\n",
      "Epoch 35/100\n",
      "\u001b[1m8/8\u001b[0m \u001b[32m━━━━━━━━━━━━━━━━━━━━\u001b[0m\u001b[37m\u001b[0m \u001b[1m0s\u001b[0m 14ms/step - loss: 72.2783 - mae: 72.2783 - val_loss: 59.1120 - val_mae: 59.1120\n",
      "Epoch 36/100\n",
      "\u001b[1m8/8\u001b[0m \u001b[32m━━━━━━━━━━━━━━━━━━━━\u001b[0m\u001b[37m\u001b[0m \u001b[1m0s\u001b[0m 19ms/step - loss: 79.1450 - mae: 79.1450 - val_loss: 59.0645 - val_mae: 59.0645\n",
      "Epoch 37/100\n",
      "\u001b[1m8/8\u001b[0m \u001b[32m━━━━━━━━━━━━━━━━━━━━\u001b[0m\u001b[37m\u001b[0m \u001b[1m0s\u001b[0m 14ms/step - loss: 68.4803 - mae: 68.4803 - val_loss: 63.2629 - val_mae: 63.2629\n",
      "Epoch 38/100\n",
      "\u001b[1m8/8\u001b[0m \u001b[32m━━━━━━━━━━━━━━━━━━━━\u001b[0m\u001b[37m\u001b[0m \u001b[1m0s\u001b[0m 15ms/step - loss: 81.3176 - mae: 81.3176 - val_loss: 58.4485 - val_mae: 58.4485\n",
      "Epoch 39/100\n",
      "\u001b[1m8/8\u001b[0m \u001b[32m━━━━━━━━━━━━━━━━━━━━\u001b[0m\u001b[37m\u001b[0m \u001b[1m0s\u001b[0m 16ms/step - loss: 70.4666 - mae: 70.4666 - val_loss: 59.4823 - val_mae: 59.4823\n",
      "Epoch 40/100\n",
      "\u001b[1m8/8\u001b[0m \u001b[32m━━━━━━━━━━━━━━━━━━━━\u001b[0m\u001b[37m\u001b[0m \u001b[1m0s\u001b[0m 14ms/step - loss: 75.2886 - mae: 75.2886 - val_loss: 61.4975 - val_mae: 61.4975\n",
      "Epoch 41/100\n",
      "\u001b[1m8/8\u001b[0m \u001b[32m━━━━━━━━━━━━━━━━━━━━\u001b[0m\u001b[37m\u001b[0m \u001b[1m0s\u001b[0m 14ms/step - loss: 77.1579 - mae: 77.1579 - val_loss: 58.5203 - val_mae: 58.5203\n",
      "Epoch 42/100\n",
      "\u001b[1m8/8\u001b[0m \u001b[32m━━━━━━━━━━━━━━━━━━━━\u001b[0m\u001b[37m\u001b[0m \u001b[1m0s\u001b[0m 14ms/step - loss: 75.6238 - mae: 75.6238 - val_loss: 59.5336 - val_mae: 59.5336\n",
      "Epoch 43/100\n",
      "\u001b[1m8/8\u001b[0m \u001b[32m━━━━━━━━━━━━━━━━━━━━\u001b[0m\u001b[37m\u001b[0m \u001b[1m0s\u001b[0m 14ms/step - loss: 77.2520 - mae: 77.2520 - val_loss: 58.8197 - val_mae: 58.8197\n",
      "Epoch 44/100\n",
      "\u001b[1m8/8\u001b[0m \u001b[32m━━━━━━━━━━━━━━━━━━━━\u001b[0m\u001b[37m\u001b[0m \u001b[1m0s\u001b[0m 15ms/step - loss: 76.9752 - mae: 76.9752 - val_loss: 58.6326 - val_mae: 58.6326\n",
      "Epoch 45/100\n",
      "\u001b[1m8/8\u001b[0m \u001b[32m━━━━━━━━━━━━━━━━━━━━\u001b[0m\u001b[37m\u001b[0m \u001b[1m0s\u001b[0m 16ms/step - loss: 77.2354 - mae: 77.2354 - val_loss: 59.7117 - val_mae: 59.7117\n",
      "Epoch 46/100\n",
      "\u001b[1m8/8\u001b[0m \u001b[32m━━━━━━━━━━━━━━━━━━━━\u001b[0m\u001b[37m\u001b[0m \u001b[1m0s\u001b[0m 14ms/step - loss: 75.1592 - mae: 75.1592 - val_loss: 58.1629 - val_mae: 58.1629\n",
      "Epoch 47/100\n",
      "\u001b[1m8/8\u001b[0m \u001b[32m━━━━━━━━━━━━━━━━━━━━\u001b[0m\u001b[37m\u001b[0m \u001b[1m0s\u001b[0m 19ms/step - loss: 74.2468 - mae: 74.2468 - val_loss: 58.8473 - val_mae: 58.8473\n",
      "Epoch 48/100\n",
      "\u001b[1m8/8\u001b[0m \u001b[32m━━━━━━━━━━━━━━━━━━━━\u001b[0m\u001b[37m\u001b[0m \u001b[1m0s\u001b[0m 15ms/step - loss: 72.4958 - mae: 72.4958 - val_loss: 57.9776 - val_mae: 57.9776\n",
      "Epoch 49/100\n",
      "\u001b[1m8/8\u001b[0m \u001b[32m━━━━━━━━━━━━━━━━━━━━\u001b[0m\u001b[37m\u001b[0m \u001b[1m0s\u001b[0m 15ms/step - loss: 74.3676 - mae: 74.3676 - val_loss: 58.5990 - val_mae: 58.5990\n",
      "Epoch 50/100\n",
      "\u001b[1m8/8\u001b[0m \u001b[32m━━━━━━━━━━━━━━━━━━━━\u001b[0m\u001b[37m\u001b[0m \u001b[1m0s\u001b[0m 15ms/step - loss: 75.4197 - mae: 75.4197 - val_loss: 59.8889 - val_mae: 59.8889\n",
      "Epoch 51/100\n",
      "\u001b[1m8/8\u001b[0m \u001b[32m━━━━━━━━━━━━━━━━━━━━\u001b[0m\u001b[37m\u001b[0m \u001b[1m0s\u001b[0m 14ms/step - loss: 74.1796 - mae: 74.1796 - val_loss: 57.3173 - val_mae: 57.3173\n",
      "Epoch 52/100\n",
      "\u001b[1m8/8\u001b[0m \u001b[32m━━━━━━━━━━━━━━━━━━━━\u001b[0m\u001b[37m\u001b[0m \u001b[1m0s\u001b[0m 26ms/step - loss: 73.0220 - mae: 73.0220 - val_loss: 58.2210 - val_mae: 58.2210\n",
      "Epoch 53/100\n",
      "\u001b[1m8/8\u001b[0m \u001b[32m━━━━━━━━━━━━━━━━━━━━\u001b[0m\u001b[37m\u001b[0m \u001b[1m0s\u001b[0m 14ms/step - loss: 72.2673 - mae: 72.2673 - val_loss: 58.7344 - val_mae: 58.7344\n",
      "Epoch 54/100\n",
      "\u001b[1m8/8\u001b[0m \u001b[32m━━━━━━━━━━━━━━━━━━━━\u001b[0m\u001b[37m\u001b[0m \u001b[1m0s\u001b[0m 18ms/step - loss: 78.9371 - mae: 78.9371 - val_loss: 58.7811 - val_mae: 58.7811\n",
      "Epoch 55/100\n",
      "\u001b[1m8/8\u001b[0m \u001b[32m━━━━━━━━━━━━━━━━━━━━\u001b[0m\u001b[37m\u001b[0m \u001b[1m0s\u001b[0m 16ms/step - loss: 74.8093 - mae: 74.8093 - val_loss: 57.8753 - val_mae: 57.8753\n",
      "Epoch 56/100\n",
      "\u001b[1m8/8\u001b[0m \u001b[32m━━━━━━━━━━━━━━━━━━━━\u001b[0m\u001b[37m\u001b[0m \u001b[1m0s\u001b[0m 16ms/step - loss: 68.6768 - mae: 68.6768 - val_loss: 59.1575 - val_mae: 59.1575\n",
      "Epoch 57/100\n",
      "\u001b[1m8/8\u001b[0m \u001b[32m━━━━━━━━━━━━━━━━━━━━\u001b[0m\u001b[37m\u001b[0m \u001b[1m0s\u001b[0m 15ms/step - loss: 75.4472 - mae: 75.4472 - val_loss: 58.7824 - val_mae: 58.7824\n",
      "Epoch 58/100\n",
      "\u001b[1m8/8\u001b[0m \u001b[32m━━━━━━━━━━━━━━━━━━━━\u001b[0m\u001b[37m\u001b[0m \u001b[1m0s\u001b[0m 15ms/step - loss: 80.8947 - mae: 80.8947 - val_loss: 57.9697 - val_mae: 57.9697\n",
      "Epoch 59/100\n",
      "\u001b[1m8/8\u001b[0m \u001b[32m━━━━━━━━━━━━━━━━━━━━\u001b[0m\u001b[37m\u001b[0m \u001b[1m0s\u001b[0m 15ms/step - loss: 73.2752 - mae: 73.2752 - val_loss: 57.9228 - val_mae: 57.9228\n",
      "Epoch 60/100\n",
      "\u001b[1m8/8\u001b[0m \u001b[32m━━━━━━━━━━━━━━━━━━━━\u001b[0m\u001b[37m\u001b[0m \u001b[1m0s\u001b[0m 14ms/step - loss: 79.6282 - mae: 79.6282 - val_loss: 60.8453 - val_mae: 60.8453\n",
      "Epoch 61/100\n",
      "\u001b[1m8/8\u001b[0m \u001b[32m━━━━━━━━━━━━━━━━━━━━\u001b[0m\u001b[37m\u001b[0m \u001b[1m0s\u001b[0m 15ms/step - loss: 79.0459 - mae: 79.0459 - val_loss: 58.8221 - val_mae: 58.8221\n"
     ]
    }
   ],
   "source": [
    "\n",
    "X = crime[['Year', 'Category', 'State_UT']]\n",
    "y = crime['Crime_Rate']\n",
    "\n",
    "transformer = ColumnTransformer([('one_hot_encoder', OneHotEncoder(), [1, 2])], remainder='passthrough')\n",
    "X_encoded = transformer.fit_transform(X)\n",
    "\n",
    "scaler = StandardScaler(with_mean=False)  \n",
    "X_scaled = scaler.fit_transform(X_encoded)\n",
    "\n",
    "\n",
    "X_reshaped = X_scaled.toarray().reshape((X_scaled.shape[0], X_scaled.shape[1], 1))\n",
    "\n",
    "X_train, X_test, y_train, y_test = train_test_split(X_reshaped, y, test_size=0.2, random_state=42)\n",
    "\n",
    "\n",
    "\n",
    "model = Sequential()\n",
    "model.add(GRU(units=64, activation='relu', input_shape=(X_train.shape[1], X_train.shape[2])))\n",
    "model.add(Dense(units=1)) \n",
    "\n",
    "optimizer = Adam(learning_rate=0.001)  \n",
    "model.compile(optimizer=optimizer, loss='mean_absolute_error', metrics=['mae'])\n",
    "\n",
    "\n",
    "early_stopping = EarlyStopping(monitor='val_loss', patience=10, restore_best_weights=True)\n",
    "\n",
    "history = model.fit(X_train, y_train, epochs=100, batch_size=64, validation_split=0.1, callbacks=[early_stopping])\n",
    "\n"
   ]
  },
  {
   "cell_type": "code",
   "execution_count": 8,
   "metadata": {},
   "outputs": [
    {
     "data": {
      "text/html": [
       "<pre style=\"white-space:pre;overflow-x:auto;line-height:normal;font-family:Menlo,'DejaVu Sans Mono',consolas,'Courier New',monospace\"><span style=\"font-weight: bold\">Model: \"sequential\"</span>\n",
       "</pre>\n"
      ],
      "text/plain": [
       "\u001b[1mModel: \"sequential\"\u001b[0m\n"
      ]
     },
     "metadata": {},
     "output_type": "display_data"
    },
    {
     "data": {
      "text/html": [
       "<pre style=\"white-space:pre;overflow-x:auto;line-height:normal;font-family:Menlo,'DejaVu Sans Mono',consolas,'Courier New',monospace\">┏━━━━━━━━━━━━━━━━━━━━━━━━━━━━━━━━━┳━━━━━━━━━━━━━━━━━━━━━━━━┳━━━━━━━━━━━━━━━┓\n",
       "┃<span style=\"font-weight: bold\"> Layer (type)                    </span>┃<span style=\"font-weight: bold\"> Output Shape           </span>┃<span style=\"font-weight: bold\">       Param # </span>┃\n",
       "┡━━━━━━━━━━━━━━━━━━━━━━━━━━━━━━━━━╇━━━━━━━━━━━━━━━━━━━━━━━━╇━━━━━━━━━━━━━━━┩\n",
       "│ gru (<span style=\"color: #0087ff; text-decoration-color: #0087ff\">GRU</span>)                       │ (<span style=\"color: #00d7ff; text-decoration-color: #00d7ff\">None</span>, <span style=\"color: #00af00; text-decoration-color: #00af00\">64</span>)             │        <span style=\"color: #00af00; text-decoration-color: #00af00\">12,864</span> │\n",
       "├─────────────────────────────────┼────────────────────────┼───────────────┤\n",
       "│ dense (<span style=\"color: #0087ff; text-decoration-color: #0087ff\">Dense</span>)                   │ (<span style=\"color: #00d7ff; text-decoration-color: #00d7ff\">None</span>, <span style=\"color: #00af00; text-decoration-color: #00af00\">1</span>)              │            <span style=\"color: #00af00; text-decoration-color: #00af00\">65</span> │\n",
       "└─────────────────────────────────┴────────────────────────┴───────────────┘\n",
       "</pre>\n"
      ],
      "text/plain": [
       "┏━━━━━━━━━━━━━━━━━━━━━━━━━━━━━━━━━┳━━━━━━━━━━━━━━━━━━━━━━━━┳━━━━━━━━━━━━━━━┓\n",
       "┃\u001b[1m \u001b[0m\u001b[1mLayer (type)                   \u001b[0m\u001b[1m \u001b[0m┃\u001b[1m \u001b[0m\u001b[1mOutput Shape          \u001b[0m\u001b[1m \u001b[0m┃\u001b[1m \u001b[0m\u001b[1m      Param #\u001b[0m\u001b[1m \u001b[0m┃\n",
       "┡━━━━━━━━━━━━━━━━━━━━━━━━━━━━━━━━━╇━━━━━━━━━━━━━━━━━━━━━━━━╇━━━━━━━━━━━━━━━┩\n",
       "│ gru (\u001b[38;5;33mGRU\u001b[0m)                       │ (\u001b[38;5;45mNone\u001b[0m, \u001b[38;5;34m64\u001b[0m)             │        \u001b[38;5;34m12,864\u001b[0m │\n",
       "├─────────────────────────────────┼────────────────────────┼───────────────┤\n",
       "│ dense (\u001b[38;5;33mDense\u001b[0m)                   │ (\u001b[38;5;45mNone\u001b[0m, \u001b[38;5;34m1\u001b[0m)              │            \u001b[38;5;34m65\u001b[0m │\n",
       "└─────────────────────────────────┴────────────────────────┴───────────────┘\n"
      ]
     },
     "metadata": {},
     "output_type": "display_data"
    },
    {
     "data": {
      "text/html": [
       "<pre style=\"white-space:pre;overflow-x:auto;line-height:normal;font-family:Menlo,'DejaVu Sans Mono',consolas,'Courier New',monospace\"><span style=\"font-weight: bold\"> Total params: </span><span style=\"color: #00af00; text-decoration-color: #00af00\">38,789</span> (151.52 KB)\n",
       "</pre>\n"
      ],
      "text/plain": [
       "\u001b[1m Total params: \u001b[0m\u001b[38;5;34m38,789\u001b[0m (151.52 KB)\n"
      ]
     },
     "metadata": {},
     "output_type": "display_data"
    },
    {
     "data": {
      "text/html": [
       "<pre style=\"white-space:pre;overflow-x:auto;line-height:normal;font-family:Menlo,'DejaVu Sans Mono',consolas,'Courier New',monospace\"><span style=\"font-weight: bold\"> Trainable params: </span><span style=\"color: #00af00; text-decoration-color: #00af00\">12,929</span> (50.50 KB)\n",
       "</pre>\n"
      ],
      "text/plain": [
       "\u001b[1m Trainable params: \u001b[0m\u001b[38;5;34m12,929\u001b[0m (50.50 KB)\n"
      ]
     },
     "metadata": {},
     "output_type": "display_data"
    },
    {
     "data": {
      "text/html": [
       "<pre style=\"white-space:pre;overflow-x:auto;line-height:normal;font-family:Menlo,'DejaVu Sans Mono',consolas,'Courier New',monospace\"><span style=\"font-weight: bold\"> Non-trainable params: </span><span style=\"color: #00af00; text-decoration-color: #00af00\">0</span> (0.00 B)\n",
       "</pre>\n"
      ],
      "text/plain": [
       "\u001b[1m Non-trainable params: \u001b[0m\u001b[38;5;34m0\u001b[0m (0.00 B)\n"
      ]
     },
     "metadata": {},
     "output_type": "display_data"
    },
    {
     "data": {
      "text/html": [
       "<pre style=\"white-space:pre;overflow-x:auto;line-height:normal;font-family:Menlo,'DejaVu Sans Mono',consolas,'Courier New',monospace\"><span style=\"font-weight: bold\"> Optimizer params: </span><span style=\"color: #00af00; text-decoration-color: #00af00\">25,860</span> (101.02 KB)\n",
       "</pre>\n"
      ],
      "text/plain": [
       "\u001b[1m Optimizer params: \u001b[0m\u001b[38;5;34m25,860\u001b[0m (101.02 KB)\n"
      ]
     },
     "metadata": {},
     "output_type": "display_data"
    }
   ],
   "source": [
    "model.summary()"
   ]
  },
  {
   "cell_type": "code",
   "execution_count": 9,
   "metadata": {},
   "outputs": [
    {
     "name": "stdout",
     "output_type": "stream",
     "text": [
      "\u001b[1m5/5\u001b[0m \u001b[32m━━━━━━━━━━━━━━━━━━━━\u001b[0m\u001b[37m\u001b[0m \u001b[1m0s\u001b[0m 56ms/step\n",
      "\u001b[1m5/5\u001b[0m \u001b[32m━━━━━━━━━━━━━━━━━━━━\u001b[0m\u001b[37m\u001b[0m \u001b[1m0s\u001b[0m 3ms/step - loss: 66.4618 - mae: 66.4618 \n",
      "Mean Absolute Error: 68.02168273925781\n",
      "Mean Squared Error: 68.02168273925781\n",
      "R-squared (R^2): 0.1322375894341515\n"
     ]
    }
   ],
   "source": [
    "y_pred = model.predict(X_test)\n",
    "from sklearn.metrics import r2_score\n",
    "mse, mae = model.evaluate(X_test, y_test)\n",
    "print(\"Mean Absolute Error:\", mae)\n",
    "print(\"Mean Squared Error:\", mse)\n",
    "r2 = r2_score(y_test, y_pred)\n",
    "print(\"R-squared (R^2):\", r2)"
   ]
  },
  {
   "cell_type": "code",
   "execution_count": 10,
   "metadata": {},
   "outputs": [
    {
     "name": "stdout",
     "output_type": "stream",
     "text": [
      "\u001b[1m5/5\u001b[0m \u001b[32m━━━━━━━━━━━━━━━━━━━━\u001b[0m\u001b[37m\u001b[0m \u001b[1m0s\u001b[0m 2ms/step \n",
      "Predictions:\n",
      "[[201.72874]\n",
      " [200.46312]\n",
      " [200.92793]\n",
      " [202.75093]\n",
      " [202.64395]\n",
      " [200.95975]\n",
      " [201.22916]\n",
      " [201.23555]\n",
      " [140.58623]\n",
      " [176.56169]\n",
      " [200.44676]\n",
      " [201.14311]\n",
      " [201.56267]\n",
      " [139.08142]\n",
      " [139.15558]\n",
      " [139.838  ]\n",
      " [190.62794]\n",
      " [139.77127]\n",
      " [201.32799]\n",
      " [201.50699]\n",
      " [200.48479]\n",
      " [201.68134]\n",
      " [202.2183 ]\n",
      " [201.944  ]\n",
      " [147.70091]\n",
      " [190.97185]\n",
      " [140.38133]\n",
      " [139.22978]\n",
      " [140.24883]\n",
      " [200.01906]\n",
      " [140.93993]\n",
      " [141.52911]\n",
      " [140.91388]\n",
      " [139.9103 ]\n",
      " [139.83653]\n",
      " [139.76283]\n",
      " [201.09656]\n",
      " [140.68224]\n",
      " [200.07341]\n",
      " [147.73978]\n",
      " [202.18044]\n",
      " [160.98183]\n",
      " [139.6154 ]\n",
      " [201.5597 ]\n",
      " [140.27907]\n",
      " [140.3733 ]\n",
      " [201.32518]\n",
      " [200.99277]\n",
      " [176.52446]\n",
      " [203.0829 ]\n",
      " [202.37402]\n",
      " [201.55217]\n",
      " [200.18483]\n",
      " [201.15836]\n",
      " [200.1874 ]\n",
      " [201.48335]\n",
      " [200.7808 ]\n",
      " [201.71342]\n",
      " [201.59242]\n",
      " [139.94553]\n",
      " [140.94063]\n",
      " [201.41316]\n",
      " [200.982  ]\n",
      " [139.70395]\n",
      " [200.40517]\n",
      " [141.01906]\n",
      " [140.10149]\n",
      " [201.16664]\n",
      " [139.57472]\n",
      " [139.9861 ]\n",
      " [139.6888 ]\n",
      " [138.85892]\n",
      " [200.77843]\n",
      " [201.73412]\n",
      " [200.18929]\n",
      " [200.84468]\n",
      " [160.82208]\n",
      " [200.23921]\n",
      " [141.02495]\n",
      " [140.22758]\n",
      " [140.61678]\n",
      " [191.01479]\n",
      " [139.12082]\n",
      " [139.76262]\n",
      " [201.07503]\n",
      " [201.03722]\n",
      " [200.34087]\n",
      " [201.5302 ]\n",
      " [200.35698]\n",
      " [140.98846]\n",
      " [201.31285]\n",
      " [199.87428]\n",
      " [202.64006]\n",
      " [140.94322]\n",
      " [141.6914 ]\n",
      " [140.79169]\n",
      " [139.80731]\n",
      " [201.75854]\n",
      " [161.04561]\n",
      " [139.79182]\n",
      " [201.59137]\n",
      " [139.37816]\n",
      " [201.8987 ]\n",
      " [139.97383]\n",
      " [141.63722]\n",
      " [200.98363]\n",
      " [200.37483]\n",
      " [199.94647]\n",
      " [139.8522 ]\n",
      " [200.79579]\n",
      " [200.59915]\n",
      " [160.5657 ]\n",
      " [201.62154]\n",
      " [201.30063]\n",
      " [140.59224]\n",
      " [139.9492 ]\n",
      " [200.49608]\n",
      " [201.04004]\n",
      " [139.43542]\n",
      " [140.44954]\n",
      " [176.78505]\n",
      " [202.04283]\n",
      " [200.74396]\n",
      " [147.62328]\n",
      " [200.52788]\n",
      " [201.57515]\n",
      " [200.67482]\n",
      " [202.51254]\n",
      " [201.24606]\n",
      " [201.33453]\n",
      " [141.3676 ]\n",
      " [201.11928]\n",
      " [201.07709]]\n"
     ]
    }
   ],
   "source": [
    "predictions = model.predict(X_test)\n",
    "\n",
    "print(\"Predictions:\")\n",
    "print(predictions)"
   ]
  },
  {
   "cell_type": "code",
   "execution_count": 25,
   "metadata": {},
   "outputs": [
    {
     "data": {
      "image/png": "[encoded data removed]",
      "text/plain": [
       "<Figure size 1000x600 with 1 Axes>"
      ]
     },
     "metadata": {},
     "output_type": "display_data"
    }
   ],
   "source": [
    "plt.figure(figsize=(10, 6))\n",
    "plt.scatter(y_test, predictions, color='blue', label='Actual vs. Predicted')\n",
    "plt.plot([min(y_test), max(y_test)], [min(y_test), max(y_test)], color='red', linestyle='--', label='Perfect Prediction')\n",
    "plt.xlabel('Actual Crime Rate')\n",
    "plt.ylabel('Predicted Crime Rate')\n",
    "plt.title('Actual vs. Predicted Crime Rate for GRU')\n",
    "plt.legend()\n",
    "plt.grid(True)\n",
    "plt.show()"
   ]
  },
  {
   "cell_type": "code",
   "execution_count": 10,
   "metadata": {},
   "outputs": [
    {
     "name": "stdout",
     "output_type": "stream",
     "text": [
      "\u001b[1m1/1\u001b[0m \u001b[32m━━━━━━━━━━━━━━━━━━━━\u001b[0m\u001b[37m\u001b[0m \u001b[1m0s\u001b[0m 19ms/step\n",
      "Predicted Crime Rate 2021 State Tamil Nadu:  130.85968\n"
     ]
    }
   ],
   "source": [
    "def predict_crime_rate():\n",
    "    user_input_year = int(input(\"Enter the year: \"))\n",
    "    user_input_category = input(\"Enter the category: \")\n",
    "    user_input_state = input(\"Enter the state/UT: \")\n",
    "\n",
    "    user_input = pd.DataFrame({'Year': [user_input_year], 'Category': [user_input_category], 'State_UT': [user_input_state]})\n",
    "    user_input_encoded = transformer.transform(user_input)\n",
    "    user_input_scaled = scaler.transform(user_input_encoded)\n",
    "    user_input_reshaped = user_input_scaled.toarray().reshape((1, user_input_scaled.shape[1], 1))\n",
    "\n",
    "\n",
    "    predicted_crime_rate = model.predict(user_input_reshaped)[0][0]\n",
    "\n",
    "    print(\"Predicted Crime Rate \"+str(user_input_year)+\" \"+user_input_category+\" \"+user_input_state+\": \", predicted_crime_rate)\n",
    "\n",
    "\n",
    "predict_crime_rate()"
   ]
  },
  {
   "cell_type": "code",
   "execution_count": 11,
   "metadata": {},
   "outputs": [],
   "source": [
    "# # Save the model using the native Keras format\n",
    "# model.save('GRU_crime_rate_prediction_model.keras')\n"
   ]
  },
  {
   "cell_type": "code",
   "execution_count": 12,
   "metadata": {},
   "outputs": [
    {
     "name": "stderr",
     "output_type": "stream",
     "text": [
      "WARNING:absl:You are saving your model as an HDF5 file via `model.save()` or `keras.saving.save_model(model)`. This file format is considered legacy. We recommend using instead the native Keras format, e.g. `model.save('my_model.keras')` or `keras.saving.save_model(model, 'my_model.keras')`. \n"
     ]
    }
   ],
   "source": [
    "from keras.models import load_model\n",
    "\n",
    "\n",
    "model.save('GRUcrime_rate_prediction_model.h5')"
   ]
  },
  {
   "cell_type": "code",
   "execution_count": 13,
   "metadata": {},
   "outputs": [
    {
     "name": "stderr",
     "output_type": "stream",
     "text": [
      "WARNING:absl:Compiled the loaded model, but the compiled metrics have yet to be built. `model.compile_metrics` will be empty until you train or evaluate the model.\n"
     ]
    }
   ],
   "source": [
    "\n",
    "loaded_model = load_model('GRUcrime_rate_prediction_model.h5')"
   ]
  },
  {
   "cell_type": "code",
   "execution_count": 14,
   "metadata": {},
   "outputs": [],
   "source": [
    "from keras.optimizers import Adam\n",
    "\n",
    "\n",
    "optimizer = Adam(learning_rate=0.001)"
   ]
  },
  {
   "cell_type": "code",
   "execution_count": 15,
   "metadata": {},
   "outputs": [
    {
     "name": "stdout",
     "output_type": "stream",
     "text": [
      "\u001b[1m5/5\u001b[0m \u001b[32m━━━━━━━━━━━━━━━━━━━━\u001b[0m\u001b[37m\u001b[0m \u001b[1m0s\u001b[0m 55ms/step\n",
      "Epoch 1/10\n",
      "\u001b[1m8/8\u001b[0m \u001b[32m━━━━━━━━━━━━━━━━━━━━\u001b[0m\u001b[37m\u001b[0m \u001b[1m3s\u001b[0m 74ms/step - loss: 13936.3086 - mae: 76.9270 - val_loss: 6490.3315 - val_mae: 63.9368\n",
      "Epoch 2/10\n",
      "\u001b[1m8/8\u001b[0m \u001b[32m━━━━━━━━━━━━━━━━━━━━\u001b[0m\u001b[37m\u001b[0m \u001b[1m0s\u001b[0m 16ms/step - loss: 17541.1934 - mae: 81.4567 - val_loss: 6534.0488 - val_mae: 61.9601\n",
      "Epoch 3/10\n",
      "\u001b[1m8/8\u001b[0m \u001b[32m━━━━━━━━━━━━━━━━━━━━\u001b[0m\u001b[37m\u001b[0m \u001b[1m0s\u001b[0m 21ms/step - loss: 16936.5449 - mae: 79.8074 - val_loss: 6212.3618 - val_mae: 62.2954\n",
      "Epoch 4/10\n",
      "\u001b[1m8/8\u001b[0m \u001b[32m━━━━━━━━━━━━━━━━━━━━\u001b[0m\u001b[37m\u001b[0m \u001b[1m0s\u001b[0m 17ms/step - loss: 17875.7363 - mae: 82.7163 - val_loss: 6121.1938 - val_mae: 61.7555\n",
      "Epoch 5/10\n",
      "\u001b[1m8/8\u001b[0m \u001b[32m━━━━━━━━━━━━━━━━━━━━\u001b[0m\u001b[37m\u001b[0m \u001b[1m0s\u001b[0m 15ms/step - loss: 14382.4756 - mae: 79.3974 - val_loss: 6017.1411 - val_mae: 59.9268\n",
      "Epoch 6/10\n",
      "\u001b[1m8/8\u001b[0m \u001b[32m━━━━━━━━━━━━━━━━━━━━\u001b[0m\u001b[37m\u001b[0m \u001b[1m0s\u001b[0m 13ms/step - loss: 12970.7529 - mae: 74.3469 - val_loss: 6052.4912 - val_mae: 61.3832\n",
      "Epoch 7/10\n",
      "\u001b[1m8/8\u001b[0m \u001b[32m━━━━━━━━━━━━━━━━━━━━\u001b[0m\u001b[37m\u001b[0m \u001b[1m0s\u001b[0m 15ms/step - loss: 12017.7256 - mae: 75.1968 - val_loss: 6046.2085 - val_mae: 60.6828\n",
      "Epoch 8/10\n",
      "\u001b[1m8/8\u001b[0m \u001b[32m━━━━━━━━━━━━━━━━━━━━\u001b[0m\u001b[37m\u001b[0m \u001b[1m0s\u001b[0m 18ms/step - loss: 15285.2900 - mae: 78.3862 - val_loss: 6108.8521 - val_mae: 61.6155\n",
      "Epoch 9/10\n",
      "\u001b[1m8/8\u001b[0m \u001b[32m━━━━━━━━━━━━━━━━━━━━\u001b[0m\u001b[37m\u001b[0m \u001b[1m0s\u001b[0m 14ms/step - loss: 16790.5020 - mae: 82.4567 - val_loss: 6120.6133 - val_mae: 61.6565\n",
      "Epoch 10/10\n",
      "\u001b[1m8/8\u001b[0m \u001b[32m━━━━━━━━━━━━━━━━━━━━\u001b[0m\u001b[37m\u001b[0m \u001b[1m0s\u001b[0m 14ms/step - loss: 16256.0498 - mae: 81.5430 - val_loss: 6134.3960 - val_mae: 60.0862\n"
     ]
    }
   ],
   "source": [
    "loaded_model.compile(optimizer=optimizer, loss='mean_squared_error', metrics=['mae'])\n",
    "predictionsNEW = loaded_model.predict(X_test)\n",
    "\n",
    "\n",
    "history = loaded_model.fit(X_train, y_train, epochs=10, batch_size=64, validation_split=0.1)"
   ]
  },
  {
   "cell_type": "code",
   "execution_count": 16,
   "metadata": {},
   "outputs": [
    {
     "data": {
      "text/plain": [
       "array([[197.77148 ],\n",
       "       [194.39047 ],\n",
       "       [197.09721 ],\n",
       "       [199.40718 ],\n",
       "       [200.6409  ],\n",
       "       [192.43634 ],\n",
       "       [197.48334 ],\n",
       "       [192.705   ],\n",
       "       [147.6821  ],\n",
       "       [184.70024 ],\n",
       "       [191.89026 ],\n",
       "       [192.61523 ],\n",
       "       [197.23909 ],\n",
       "       [126.08102 ],\n",
       "       [126.141914],\n",
       "       [132.52242 ],\n",
       "       [190.95216 ],\n",
       "       [146.98552 ],\n",
       "       [197.00142 ],\n",
       "       [198.42288 ],\n",
       "       [195.48415 ],\n",
       "       [197.35817 ],\n",
       "       [200.21999 ],\n",
       "       [197.20952 ],\n",
       "       [166.11453 ],\n",
       "       [191.52206 ],\n",
       "       [147.50789 ],\n",
       "       [126.20281 ],\n",
       "       [138.07292 ],\n",
       "       [193.99944 ],\n",
       "       [131.8491  ],\n",
       "       [155.13435 ],\n",
       "       [138.61345 ],\n",
       "       [129.82707 ],\n",
       "       [128.81949 ],\n",
       "       [128.75871 ],\n",
       "       [196.76439 ],\n",
       "       [128.78226 ],\n",
       "       [191.55487 ],\n",
       "       [166.16533 ],\n",
       "       [195.83621 ],\n",
       "       [177.35175 ],\n",
       "       [128.63713 ],\n",
       "       [197.5956  ],\n",
       "       [129.18422 ],\n",
       "       [142.01366 ],\n",
       "       [194.36327 ],\n",
       "       [194.31934 ],\n",
       "       [184.63239 ],\n",
       "       [199.67522 ],\n",
       "       [199.467   ],\n",
       "       [199.04242 ],\n",
       "       [193.33577 ],\n",
       "       [194.9832  ],\n",
       "       [192.6436  ],\n",
       "       [196.40982 ],\n",
       "       [193.88058 ],\n",
       "       [195.25145 ],\n",
       "       [193.33894 ],\n",
       "       [128.174   ],\n",
       "       [154.53522 ],\n",
       "       [198.3067  ],\n",
       "       [196.64607 ],\n",
       "       [146.9275  ],\n",
       "       [193.53925 ],\n",
       "       [130.7382  ],\n",
       "       [137.95282 ],\n",
       "       [192.68524 ],\n",
       "       [141.36002 ],\n",
       "       [132.64354 ],\n",
       "       [129.64485 ],\n",
       "       [125.89831 ],\n",
       "       [192.25835 ],\n",
       "       [199.21663 ],\n",
       "       [191.98758 ],\n",
       "       [198.34805 ],\n",
       "       [177.04869 ],\n",
       "       [194.19456 ],\n",
       "       [133.49155 ],\n",
       "       [141.89479 ],\n",
       "       [135.28549 ],\n",
       "       [191.5932  ],\n",
       "       [127.28451 ],\n",
       "       [129.7056  ],\n",
       "       [196.03796 ],\n",
       "       [196.02556 ],\n",
       "       [192.78778 ],\n",
       "       [195.01799 ],\n",
       "       [195.36171 ],\n",
       "       [135.58746 ],\n",
       "       [198.81053 ],\n",
       "       [193.86977 ],\n",
       "       [199.31763 ],\n",
       "       [129.73134 ],\n",
       "       [155.298   ],\n",
       "       [131.72775 ],\n",
       "       [137.71262 ],\n",
       "       [196.97253 ],\n",
       "       [177.47275 ],\n",
       "       [141.53827 ],\n",
       "       [199.58557 ],\n",
       "       [126.32462 ],\n",
       "       [195.48514 ],\n",
       "       [147.1596  ],\n",
       "       [155.24344 ],\n",
       "       [192.48523 ],\n",
       "       [196.39891 ],\n",
       "       [193.93454 ],\n",
       "       [127.893135],\n",
       "       [196.16267 ],\n",
       "       [192.0812  ],\n",
       "       [176.56218 ],\n",
       "       [195.13467 ],\n",
       "       [193.4787  ],\n",
       "       [142.19196 ],\n",
       "       [134.74194 ],\n",
       "       [192.9325  ],\n",
       "       [196.4035  ],\n",
       "       [146.69548 ],\n",
       "       [147.56596 ],\n",
       "       [185.1072  ],\n",
       "       [197.71635 ],\n",
       "       [195.72972 ],\n",
       "       [166.01291 ],\n",
       "       [194.85832 ],\n",
       "       [196.73566 ],\n",
       "       [192.70969 ],\n",
       "       [197.92091 ],\n",
       "       [194.29396 ],\n",
       "       [193.0966  ],\n",
       "       [154.97081 ],\n",
       "       [193.25822 ],\n",
       "       [198.57906 ]], dtype=float32)"
      ]
     },
     "execution_count": 16,
     "metadata": {},
     "output_type": "execute_result"
    }
   ],
   "source": [
    "predictionsNEW"
   ]
  }
 ],
 "metadata": {
  "kernelspec": {
   "display_name": "ml",
   "language": "python",
   "name": "python3"
  },
  "language_info": {
   "codemirror_mode": {
    "name": "ipython",
    "version": 3
   },
   "file_extension": ".py",
   "mimetype": "text/x-python",
   "name": "python",
   "nbconvert_exporter": "python",
   "pygments_lexer": "ipython3",
   "version": "3.9.19"
  }
 },
 "nbformat": 4,
 "nbformat_minor": 2
}
